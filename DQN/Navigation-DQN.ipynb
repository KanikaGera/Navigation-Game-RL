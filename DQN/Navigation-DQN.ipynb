{
 "cells": [
  {
   "cell_type": "markdown",
   "metadata": {},
   "source": [
    "# Navigation\n",
    "\n",
    "\n",
    "### 1. Start the Environment\n",
    "\n",
    "We begin by importing some necessary packages.  If the code cell below returns an error, please revisit the project instructions to double-check that you have installed [Unity ML-Agents](https://github.com/Unity-Technologies/ml-agents/blob/master/docs/Installation.md) and [NumPy](http://www.numpy.org/)."
   ]
  },
  {
   "cell_type": "code",
   "execution_count": 1,
   "metadata": {},
   "outputs": [],
   "source": [
    "from unityagents import UnityEnvironment\n",
    "import numpy as np"
   ]
  },
  {
   "cell_type": "markdown",
   "metadata": {},
   "source": [
    "Next, we will start the environment!  **_Before running the code cell below_**, change the `file_name` parameter to match the location of the Unity environment that you downloaded.\n",
    "\n",
    "- **Windows** (x86): `\"path/to/Banana_Windows_x86/Banana.exe\"`\n",
    "- **Windows** (x86_64): `\"path/to/Banana_Windows_x86_64/Banana.exe\"`"
   ]
  },
  {
   "cell_type": "code",
   "execution_count": 2,
   "metadata": {},
   "outputs": [
    {
     "name": "stderr",
     "output_type": "stream",
     "text": [
      "INFO:unityagents:\n",
      "'Academy' started successfully!\n",
      "Unity Academy name: Academy\n",
      "        Number of Brains: 1\n",
      "        Number of External Brains : 1\n",
      "        Lesson number : 0\n",
      "        Reset Parameters :\n",
      "\t\t\n",
      "Unity brain name: BananaBrain\n",
      "        Number of Visual Observations (per agent): 0\n",
      "        Vector Observation space type: continuous\n",
      "        Vector Observation space size (per agent): 37\n",
      "        Number of stacked Vector Observation: 1\n",
      "        Vector Action space type: discrete\n",
      "        Vector Action space size (per agent): 4\n",
      "        Vector Action descriptions: , , , \n"
     ]
    }
   ],
   "source": [
    "env = UnityEnvironment(file_name=\"../Banana_Windows_x86/Banana.exe\")"
   ]
  },
  {
   "cell_type": "markdown",
   "metadata": {},
   "source": [
    "Environments contain **_brains_** which are responsible for deciding the actions of their associated agents. Here we check for the first brain available, and set it as the default brain we will be controlling from Python."
   ]
  },
  {
   "cell_type": "code",
   "execution_count": 3,
   "metadata": {},
   "outputs": [],
   "source": [
    "# get the default brain\n",
    "brain_name = env.brain_names[0]\n",
    "brain = env.brains[brain_name]"
   ]
  },
  {
   "cell_type": "markdown",
   "metadata": {},
   "source": [
    "### 2. Examine the State and Action Spaces\n",
    "\n",
    "The simulation contains a single agent that navigates a large environment.  At each time step, it has four actions at its disposal:\n",
    "- `0` - walk forward \n",
    "- `1` - walk backward\n",
    "- `2` - turn left\n",
    "- `3` - turn right\n",
    "\n",
    "The state space has `37` dimensions and contains the agent's velocity, along with ray-based perception of objects around agent's forward direction.  A reward of `+1` is provided for collecting a yellow banana, and a reward of `-1` is provided for collecting a blue banana. \n",
    "\n",
    "Run the code cell below to print some information about the environment."
   ]
  },
  {
   "cell_type": "code",
   "execution_count": 4,
   "metadata": {},
   "outputs": [
    {
     "name": "stdout",
     "output_type": "stream",
     "text": [
      "Number of agents: 1\n",
      "Number of actions: 4\n",
      "States look like: [1.         0.         0.         0.         0.84408134 0.\n",
      " 0.         1.         0.         0.0748472  0.         1.\n",
      " 0.         0.         0.25755    1.         0.         0.\n",
      " 0.         0.74177343 0.         1.         0.         0.\n",
      " 0.25854847 0.         0.         1.         0.         0.09355672\n",
      " 0.         1.         0.         0.         0.31969345 0.\n",
      " 0.        ]\n",
      "States have length: 37\n"
     ]
    }
   ],
   "source": [
    "# reset the environment\n",
    "env_info = env.reset(train_mode=True)[brain_name]\n",
    "\n",
    "# number of agents in the environment\n",
    "print('Number of agents:', len(env_info.agents))\n",
    "\n",
    "# number of actions\n",
    "action_size = brain.vector_action_space_size\n",
    "print('Number of actions:', action_size)\n",
    "\n",
    "# examine the state space \n",
    "state = env_info.vector_observations[0]\n",
    "print('States look like:', state)\n",
    "state_size = len(state)\n",
    "print('States have length:', state_size)"
   ]
  },
  {
   "cell_type": "code",
   "execution_count": 12,
   "metadata": {},
   "outputs": [],
   "source": [
    "from dqn_agent import Agent\n",
    "\n",
    "agent = Agent(state_size=37, action_size=4, seed=0)"
   ]
  },
  {
   "cell_type": "code",
   "execution_count": 7,
   "metadata": {},
   "outputs": [],
   "source": [
    "import random\n",
    "import torch\n",
    "import numpy as np\n",
    "from collections import deque\n",
    "import matplotlib.pyplot as plt\n",
    "%matplotlib inline"
   ]
  },
  {
   "cell_type": "code",
   "execution_count": 8,
   "metadata": {
    "scrolled": true
   },
   "outputs": [
    {
     "name": "stdout",
     "output_type": "stream",
     "text": [
      "Episode 100\tAverage Score: -0.26\n",
      "Episode 200\tAverage Score: 0.692\n",
      "Episode 300\tAverage Score: 2.40\n",
      "Episode 400\tAverage Score: 4.40\n",
      "Episode 500\tAverage Score: 5.77\n",
      "Episode 600\tAverage Score: 6.84\n",
      "Episode 700\tAverage Score: 8.24\n",
      "Episode 800\tAverage Score: 10.15\n",
      "Episode 900\tAverage Score: 10.86\n",
      "Episode 1000\tAverage Score: 11.49\n",
      "Episode 1100\tAverage Score: 12.86\n",
      "Episode 1200\tAverage Score: 14.37\n",
      "Episode 1264\tAverage Score: 15.02\n",
      "Environment solved in 1164 episodes!\tAverage Score: 15.02\n"
     ]
    },
    {
     "data": {
      "image/png": "[encoded data removed]",
      "text/plain": [
       "<Figure size 432x288 with 1 Axes>"
      ]
     },
     "metadata": {
      "needs_background": "light"
     },
     "output_type": "display_data"
    }
   ],
   "source": [
    "def dqn(n_episodes=1800, max_t=1000, eps_start=1.0, eps_end=0.01, eps_decay=0.995):\n",
    "    \"\"\"Deep Q-Learning.\n",
    "    \n",
    "    Params\n",
    "    ======\n",
    "        n_episodes (int): maximum number of training episodes\n",
    "        max_t (int): maximum number of timesteps per episode\n",
    "        eps_start (float): starting value of epsilon, for epsilon-greedy action selection\n",
    "        eps_end (float): minimum value of epsilon\n",
    "        eps_decay (float): multiplicative factor (per episode) for decreasing epsilon\n",
    "    \"\"\"\n",
    "    scores = []                        # list containing scores from each episode\n",
    "    scores_window = deque(maxlen=100)  # last 100 scores\n",
    "    eps = eps_start                    # initialize epsilon\n",
    "    for i_episode in range(1, n_episodes+1):\n",
    "        env_info = env.reset(train_mode=True)[brain_name] # reset the environment\n",
    "        state = env_info.vector_observations[0]            # get the current state\n",
    "        score = 0   \n",
    "        for t in range(max_t):\n",
    "            action = agent.act(state, eps).astype(int)\n",
    "            env_info = env.step(action)[brain_name]        # send the action to the environment\n",
    "            next_state = env_info.vector_observations[0]   # get the next state\n",
    "            reward = env_info.rewards[0]                   # get the reward\n",
    "            done = env_info.local_done[0]                  # see if episode has finished\n",
    "            agent.step(state, action, reward, next_state, done)\n",
    "            state = next_state\n",
    "            score += reward\n",
    "            if done:\n",
    "                break \n",
    "        scores_window.append(score)       # save most recent score\n",
    "        scores.append(score)              # save most recent score\n",
    "        eps = max(eps_end, eps_decay*eps) # decrease epsilon\n",
    "        print('\\rEpisode {}\\tAverage Score: {:.2f}'.format(i_episode, np.mean(scores_window)), end=\"\")\n",
    "        if i_episode % 100 == 0:\n",
    "            print('\\rEpisode {}\\tAverage Score: {:.2f}'.format(i_episode, np.mean(scores_window)))\n",
    "        if np.mean(scores_window)>=15.0:\n",
    "            print('\\nEnvironment solved in {:d} episodes!\\tAverage Score: {:.2f}'.format(i_episode-100, np.mean(scores_window)))\n",
    "            torch.save(agent.qnetwork_local.state_dict(), 'model.pt')\n",
    "            break\n",
    "    return scores\n",
    "\n",
    "scores = dqn()\n",
    "\n",
    "# plot the scores\n",
    "fig = plt.figure()\n",
    "ax = fig.add_subplot(111)\n",
    "plt.plot(np.arange(len(scores)), scores)\n",
    "plt.ylabel('Score')\n",
    "plt.xlabel('Episode #')\n",
    "plt.show()"
   ]
  },
  {
   "cell_type": "code",
   "execution_count": 9,
   "metadata": {},
   "outputs": [
    {
     "name": "stdout",
     "output_type": "stream",
     "text": [
      "Score 0: 12.0\n",
      "Score 1: 22.0\n",
      "Score 2: 19.0\n",
      "Score 3: 10.0\n",
      "Score 4: -1.0\n",
      "Score 5: 23.0\n",
      "Score 6: 15.0\n",
      "Score 7: 13.0\n",
      "Score 8: 13.0\n",
      "Score 9: 16.0\n",
      "Score 10: 15.0\n",
      "Score 11: 13.0\n",
      "Score 12: 18.0\n",
      "Score 13: 6.0\n",
      "Score 14: 19.0\n",
      "Score 15: 11.0\n",
      "Score 16: 13.0\n",
      "Score 17: 13.0\n",
      "Score 18: 14.0\n",
      "Score 19: 16.0\n",
      "Score 20: 8.0\n",
      "Score 21: 16.0\n",
      "Score 22: 17.0\n",
      "Score 23: 17.0\n",
      "Score 24: 8.0\n",
      "Score 25: 19.0\n",
      "Score 26: 5.0\n",
      "Score 27: 15.0\n",
      "Score 28: 14.0\n",
      "Score 29: 20.0\n",
      "Score 30: 18.0\n",
      "Score 31: 18.0\n",
      "Score 32: 13.0\n",
      "Score 33: 19.0\n",
      "Score 34: 12.0\n",
      "Score 35: 12.0\n",
      "Score 36: 18.0\n",
      "Score 37: 7.0\n",
      "Score 38: 13.0\n",
      "Score 39: 3.0\n",
      "Score 40: 18.0\n",
      "Score 41: 10.0\n",
      "Score 42: 20.0\n",
      "Score 43: 17.0\n",
      "Score 44: 3.0\n",
      "Score 45: 16.0\n",
      "Score 46: 13.0\n",
      "Score 47: 12.0\n",
      "Score 48: 17.0\n",
      "Score 49: 11.0\n",
      "Score 50: 10.0\n",
      "Score 51: 19.0\n",
      "Score 52: 14.0\n",
      "Score 53: 14.0\n",
      "Score 54: 14.0\n",
      "Score 55: 20.0\n",
      "Score 56: 12.0\n",
      "Score 57: 15.0\n",
      "Score 58: 2.0\n",
      "Score 59: 17.0\n",
      "Score 60: 17.0\n",
      "Score 61: 18.0\n",
      "Score 62: 7.0\n",
      "Score 63: 22.0\n",
      "Score 64: 12.0\n",
      "Score 65: 17.0\n",
      "Score 66: 6.0\n",
      "Score 67: 22.0\n",
      "Score 68: 13.0\n",
      "Score 69: 17.0\n",
      "Score 70: 19.0\n",
      "Score 71: 15.0\n",
      "Score 72: 5.0\n",
      "Score 73: 17.0\n",
      "Score 74: 13.0\n",
      "Score 75: 24.0\n",
      "Score 76: 22.0\n",
      "Score 77: 14.0\n",
      "Score 78: 18.0\n",
      "Score 79: 10.0\n",
      "Score 80: 12.0\n",
      "Score 81: 10.0\n",
      "Score 82: 21.0\n",
      "Score 83: 17.0\n",
      "Score 84: 19.0\n",
      "Score 85: 8.0\n",
      "Score 86: 11.0\n",
      "Score 87: 6.0\n",
      "Score 88: 20.0\n",
      "Score 89: 20.0\n",
      "Score 90: 22.0\n",
      "Score 91: 8.0\n",
      "Score 92: 17.0\n",
      "Score 93: 12.0\n",
      "Score 94: 12.0\n",
      "Score 95: 21.0\n",
      "Score 96: 22.0\n",
      "Score 97: 3.0\n",
      "Score 98: 13.0\n",
      "Score 99: 18.0\n",
      "14.26\n"
     ]
    }
   ],
   "source": [
    "# load the weights from file\n",
    "agent.qnetwork_local.load_state_dict(torch.load('model.pt'))\n",
    "\n",
    "totalscore=0\n",
    "for i in range(100):\n",
    "    env_info = env.reset(train_mode=False)[brain_name] # reset the environment\n",
    "    state = env_info.vector_observations[0]            # get the current state\n",
    "    score = 0   \n",
    "    for j in range(1000):\n",
    "        action = agent.act(state).astype(int)\n",
    "        env_info = env.step(action)[brain_name]        # send the action to the environment\n",
    "        next_state = env_info.vector_observations[0]   # get the next state\n",
    "        reward = env_info.rewards[0]                   # get the reward\n",
    "        done = env_info.local_done[0]\n",
    "        score += reward                                # update the score\n",
    "        state = next_state  \n",
    "        if done:\n",
    "            break\n",
    "    print(\"Score {}: {}\".format(i,score))\n",
    "    totalscore+=score\n",
    "\n",
    "print(totalscore/100.0)\n",
    "            "
   ]
  },
  {
   "cell_type": "code",
   "execution_count": 10,
   "metadata": {},
   "outputs": [],
   "source": [
    "env.close()"
   ]
  },
  {
   "cell_type": "code",
   "execution_count": 11,
   "metadata": {},
   "outputs": [
    {
     "name": "stdout",
     "output_type": "stream",
     "text": [
      "<dqn_agent.Agent object at 0x000001F008BA2DA0>\n"
     ]
    }
   ],
   "source": [
    "print(agent)"
   ]
  },
  {
   "cell_type": "code",
   "execution_count": null,
   "metadata": {},
   "outputs": [],
   "source": []
  }
 ],
 "metadata": {
  "kernelspec": {
   "display_name": "drlnd",
   "language": "python",
   "name": "drlnd"
  },
  "language_info": {
   "codemirror_mode": {
    "name": "ipython",
    "version": 3
   },
   "file_extension": ".py",
   "mimetype": "text/x-python",
   "name": "python",
   "nbconvert_exporter": "python",
   "pygments_lexer": "ipython3",
   "version": "3.6.10"
  }
 },
 "nbformat": 4,
 "nbformat_minor": 2
}
